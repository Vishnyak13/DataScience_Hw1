{
 "cells": [
  {
   "cell_type": "code",
   "execution_count": 2,
   "id": "7a7aaa75",
   "metadata": {},
   "outputs": [],
   "source": [
    "import numpy as np"
   ]
  },
  {
   "cell_type": "markdown",
   "id": "f6215063",
   "metadata": {},
   "source": [
    "## Завдання 1"
   ]
  },
  {
   "cell_type": "markdown",
   "id": "7945f424",
   "metadata": {},
   "source": [
    "Вкладник поклав 50000 умовних одиниць на три різні рахунки в три різні банки. За першим рахунком виплати становитимуть 5% річних, по другому – 7% річних та по третьому 6% річних. Відомо, що через рік вкладник отримав за відсотками суму в 2250 у.о. з першого та другого банку та суму в 1400 у.о. з першого та третього банку. Скільки умовних одиниць він поклав на кожен рахунок спочатку?"
   ]
  },
  {
   "cell_type": "markdown",
   "id": "efbbd5ea",
   "metadata": {},
   "source": [
    "##### Розв'язок"
   ]
  },
  {
   "cell_type": "markdown",
   "id": "8bbd09e4",
   "metadata": {},
   "source": [
    "<code>Отримуємо систему рівнянь</code>"
   ]
  },
  {
   "cell_type": "markdown",
   "id": "0caf66bf",
   "metadata": {},
   "source": [
    "\\begin{equation}\n",
    "\\left\\{\n",
    "\t\\begin{array}{ll}\n",
    "\t\tx + y + z = 50000 \\\\\n",
    "\t\t0.05x + 0.07y + 0 = 2250 \\\\\n",
    "        0.05x + 0 + 0.06z = 1400\n",
    "\t\\end{array}\\right.\n",
    "\\end{equation}"
   ]
  },
  {
   "cell_type": "code",
   "execution_count": 7,
   "id": "c0050509",
   "metadata": {},
   "outputs": [
    {
     "data": {
      "text/plain": [
       "array([[1.  , 1.  , 1.  ],\n",
       "       [0.05, 0.07, 0.  ],\n",
       "       [0.05, 0.  , 0.06]])"
      ]
     },
     "execution_count": 7,
     "metadata": {},
     "output_type": "execute_result"
    }
   ],
   "source": [
    "m = np.array([[1, 1, 1],[0.05, 0.07, 0],[0.05, 0, 0.06]])\n",
    "m"
   ]
  },
  {
   "cell_type": "code",
   "execution_count": 26,
   "id": "dcd393cd",
   "metadata": {},
   "outputs": [
    {
     "data": {
      "text/plain": [
       "array([50000,  2250,  1400])"
      ]
     },
     "execution_count": 26,
     "metadata": {},
     "output_type": "execute_result"
    }
   ],
   "source": [
    "s = np.array([50000, 2250, 1400])\n",
    "s"
   ]
  },
  {
   "cell_type": "code",
   "execution_count": 27,
   "id": "12d5fe9e",
   "metadata": {},
   "outputs": [
    {
     "data": {
      "text/plain": [
       "array([10000., 25000., 15000.])"
      ]
     },
     "execution_count": 27,
     "metadata": {},
     "output_type": "execute_result"
    }
   ],
   "source": [
    "deposits = np.linalg.solve(m, s)\n",
    "deposits"
   ]
  },
  {
   "cell_type": "markdown",
   "id": "4aec9e2d",
   "metadata": {},
   "source": [
    "<code>Aльтернативний варіант розв'язку</code>"
   ]
  },
  {
   "cell_type": "code",
   "execution_count": 28,
   "id": "b880dd5f",
   "metadata": {},
   "outputs": [
    {
     "data": {
      "text/plain": [
       "array([[ -1.82608696,  26.08695652,  30.43478261],\n",
       "       [  1.30434783,  -4.34782609, -21.73913043],\n",
       "       [  1.52173913, -21.73913043,  -8.69565217]])"
      ]
     },
     "execution_count": 28,
     "metadata": {},
     "output_type": "execute_result"
    }
   ],
   "source": [
    "m_inv = np.linalg.inv(m)\n",
    "m_inv"
   ]
  },
  {
   "cell_type": "code",
   "execution_count": 29,
   "id": "c49fdd66",
   "metadata": {},
   "outputs": [
    {
     "data": {
      "text/plain": [
       "array([10000., 25000., 15000.])"
      ]
     },
     "execution_count": 29,
     "metadata": {},
     "output_type": "execute_result"
    }
   ],
   "source": [
    "res = m_inv.dot(s)\n",
    "res"
   ]
  },
  {
   "cell_type": "markdown",
   "id": "dcadf765",
   "metadata": {},
   "source": [
    "## Завдання 2"
   ]
  },
  {
   "cell_type": "markdown",
   "id": "8cb99b2a",
   "metadata": {},
   "source": [
    "На складі зберігаються мобільні телефони iPhone 6, iPhone 11, iPhone 12 моделей. Всього 1328 екземплярів. Моделей iPhone 6 на 120 менше, ніж моделей iPhone 11, та на 100 більше, ніж моделей iPhone 12. Скільки моделей кожного виду на складі?"
   ]
  },
  {
   "cell_type": "markdown",
   "id": "bfd9de13",
   "metadata": {},
   "source": [
    "##### Розв'язок"
   ]
  },
  {
   "cell_type": "markdown",
   "id": "ff9da40e",
   "metadata": {},
   "source": [
    "<code>Отримуємо систему рівнянь</code>"
   ]
  },
  {
   "cell_type": "markdown",
   "id": "0e9d0b60",
   "metadata": {},
   "source": [
    "\\begin{equation}\n",
    "\\left\\{\n",
    "\t\\begin{array}{ll}\n",
    "\t\tx + y + z = 1328 \\\\\n",
    "\t\tx - y + 0 = -120 \\\\\n",
    "        x + 0 - z = 100\n",
    "\t\\end{array}\\right.\n",
    "\\end{equation}"
   ]
  },
  {
   "cell_type": "code",
   "execution_count": 9,
   "id": "1501ff19",
   "metadata": {},
   "outputs": [
    {
     "data": {
      "text/plain": [
       "array([[ 1,  1,  1],\n",
       "       [ 1, -1,  0],\n",
       "       [ 1,  0, -1]])"
      ]
     },
     "execution_count": 9,
     "metadata": {},
     "output_type": "execute_result"
    }
   ],
   "source": [
    "con = np.array([[1, 1, 1], [1, -1, 0], [1, 0, -1]])\n",
    "con"
   ]
  },
  {
   "cell_type": "code",
   "execution_count": 21,
   "id": "87345cde",
   "metadata": {},
   "outputs": [
    {
     "data": {
      "text/plain": [
       "array([1328, -120,  100])"
      ]
     },
     "execution_count": 21,
     "metadata": {},
     "output_type": "execute_result"
    }
   ],
   "source": [
    "summ = np.array([1328, -120, 100])\n",
    "summ"
   ]
  },
  {
   "cell_type": "code",
   "execution_count": 22,
   "id": "95efe8d3",
   "metadata": {},
   "outputs": [
    {
     "data": {
      "text/plain": [
       "array([436., 556., 336.])"
      ]
     },
     "execution_count": 22,
     "metadata": {},
     "output_type": "execute_result"
    }
   ],
   "source": [
    "phones = np.linalg.solve(con, summ)\n",
    "phones"
   ]
  },
  {
   "cell_type": "markdown",
   "id": "9434ad62",
   "metadata": {},
   "source": [
    "<code>Aльтернативний варіант розв'язку</code>"
   ]
  },
  {
   "cell_type": "code",
   "execution_count": 31,
   "id": "99311dfe",
   "metadata": {},
   "outputs": [
    {
     "data": {
      "text/plain": [
       "array([[ 0.33333333,  0.33333333,  0.33333333],\n",
       "       [ 0.33333333, -0.66666667,  0.33333333],\n",
       "       [ 0.33333333,  0.33333333, -0.66666667]])"
      ]
     },
     "execution_count": 31,
     "metadata": {},
     "output_type": "execute_result"
    }
   ],
   "source": [
    "con_inv = np.linalg.inv(con)\n",
    "con_inv"
   ]
  },
  {
   "cell_type": "code",
   "execution_count": 32,
   "id": "5d3a2fd6",
   "metadata": {},
   "outputs": [
    {
     "data": {
      "text/plain": [
       "array([436., 556., 336.])"
      ]
     },
     "execution_count": 32,
     "metadata": {},
     "output_type": "execute_result"
    }
   ],
   "source": [
    "res_phones = con_inv.dot(summ)\n",
    "res_phones"
   ]
  },
  {
   "cell_type": "markdown",
   "id": "1c589ff0",
   "metadata": {},
   "source": [
    "## Завдання 3"
   ]
  },
  {
   "cell_type": "markdown",
   "id": "402400ba",
   "metadata": {},
   "source": [
    "Складіть канонічне рівняння еліпсоїда, що проходить через три точки $A,B,C$\n",
    "$$A(\\sqrt3; 0; \\sqrt3), B(\\sqrt6; {1\\over2}; 0), C(1 ; {1\\over\\sqrt3}; 1)$$\n",
    "Канонічне рівняння еліпсоїда у прямокутній декартовій системі координат має вигляд:\n",
    "$${x^2 \\over a^2} + {y^2 \\over b^2} + {z^2 \\over c^2}=1$$\n",
    "Завдання полягає у визначенні параметрів $a^2, b^2, c^2$"
   ]
  },
  {
   "cell_type": "markdown",
   "id": "a6dfc4e1",
   "metadata": {},
   "source": [
    "##### Розв'язок"
   ]
  },
  {
   "cell_type": "markdown",
   "id": "7f18f56e",
   "metadata": {},
   "source": [
    "<code>Робимо заміну</code>"
   ]
  },
  {
   "cell_type": "markdown",
   "id": "ed580d1b",
   "metadata": {},
   "source": [
    "$K = {1 \\over a^2}; R = {1 \\over b^2}; L ={1 \\over c^2}$"
   ]
  },
  {
   "cell_type": "markdown",
   "id": "023009e0",
   "metadata": {},
   "source": [
    "<code>Отримуємо систему рівнянь</code>"
   ]
  },
  {
   "cell_type": "markdown",
   "id": "d18cc0c2",
   "metadata": {},
   "source": [
    "\\begin{equation}\n",
    "\\left\\{\n",
    "\t\\begin{array}{ll}\n",
    "\t\t3K + 0 + 3L =1 \\\\\n",
    "\t\t6K + {1\\over4}R + 0 = 1 \\\\\n",
    "        K + {1\\over3}R + L =1\n",
    "\t\\end{array}\\right.\n",
    "\\end{equation}"
   ]
  },
  {
   "cell_type": "code",
   "execution_count": 46,
   "id": "f548459b",
   "metadata": {},
   "outputs": [
    {
     "data": {
      "text/plain": [
       "array([[3.        , 0.        , 3.        ],\n",
       "       [6.        , 0.25      , 0.        ],\n",
       "       [1.        , 0.33333333, 1.        ]])"
      ]
     },
     "execution_count": 46,
     "metadata": {},
     "output_type": "execute_result"
    }
   ],
   "source": [
    "matrix = np.array([[3, 0, 3], [6, 1/4, 0],[1, 1/3, 1]])\n",
    "matrix"
   ]
  },
  {
   "cell_type": "code",
   "execution_count": 47,
   "id": "f50a1dac",
   "metadata": {},
   "outputs": [
    {
     "data": {
      "text/plain": [
       "array([1, 1, 1])"
      ]
     },
     "execution_count": 47,
     "metadata": {},
     "output_type": "execute_result"
    }
   ],
   "source": [
    "q = np.array([1, 1, 1])\n",
    "q"
   ]
  },
  {
   "cell_type": "code",
   "execution_count": 50,
   "id": "12e8da64",
   "metadata": {},
   "outputs": [
    {
     "data": {
      "text/plain": [
       "array([12. ,  0.5,  4. ])"
      ]
     },
     "execution_count": 50,
     "metadata": {},
     "output_type": "execute_result"
    }
   ],
   "source": [
    "coef = 1/np.linalg.solve(matrix, q)\n",
    "coef"
   ]
  },
  {
   "cell_type": "markdown",
   "id": "fd8816c3",
   "metadata": {},
   "source": [
    "<code>Канонічне рівняння еліпсоїда</code>"
   ]
  },
  {
   "cell_type": "markdown",
   "id": "126d5b18",
   "metadata": {},
   "source": [
    "$${x^2 \\over 12} + {2y^2} + {z^2 \\over 4}=1$$"
   ]
  },
  {
   "cell_type": "markdown",
   "id": "f928a2d9",
   "metadata": {},
   "source": [
    "## Завдання 4"
   ]
  },
  {
   "cell_type": "markdown",
   "id": "ec1f9eb9",
   "metadata": {},
   "source": [
    "Складіть рівняння параболи , що проходить через задані три точки (1,12), (3,54), (-1,2). Необхідно знайти коефіцієнти рівняння a, b, c\n",
    "$$y=a * x^2 + b  *x + c$$"
   ]
  },
  {
   "cell_type": "markdown",
   "id": "1e105715",
   "metadata": {},
   "source": [
    "##### Розв'язок"
   ]
  },
  {
   "cell_type": "markdown",
   "id": "a22eb06b",
   "metadata": {},
   "source": [
    "<code>Отримуємо систему рівнянь</code>"
   ]
  },
  {
   "cell_type": "markdown",
   "id": "9c8c01e3",
   "metadata": {},
   "source": [
    "\\begin{equation}\n",
    "\\left\\{\n",
    "\t\\begin{array}{ll}\n",
    "\t\ta + b + c = 12 \\\\\n",
    "\t\t9a + 3b + c = 54 \\\\\n",
    "        a - b + c = 2\n",
    "\t\\end{array}\\right.\n",
    "\\end{equation}"
   ]
  },
  {
   "cell_type": "code",
   "execution_count": 52,
   "id": "819b69fb",
   "metadata": {},
   "outputs": [
    {
     "data": {
      "text/plain": [
       "array([[ 1,  1,  1],\n",
       "       [ 9,  3,  1],\n",
       "       [ 1, -1,  1]])"
      ]
     },
     "execution_count": 52,
     "metadata": {},
     "output_type": "execute_result"
    }
   ],
   "source": [
    "matr = np.array([[1, 1, 1], [9, 3, 1], [1, -1, 1]])\n",
    "matr"
   ]
  },
  {
   "cell_type": "code",
   "execution_count": 53,
   "id": "3d112ef3",
   "metadata": {},
   "outputs": [
    {
     "data": {
      "text/plain": [
       "array([12, 54,  2])"
      ]
     },
     "execution_count": 53,
     "metadata": {},
     "output_type": "execute_result"
    }
   ],
   "source": [
    "y = np.array([12, 54, 2])\n",
    "y"
   ]
  },
  {
   "cell_type": "code",
   "execution_count": 55,
   "id": "e3fb4535",
   "metadata": {},
   "outputs": [
    {
     "data": {
      "text/plain": [
       "array([4., 5., 3.])"
      ]
     },
     "execution_count": 55,
     "metadata": {},
     "output_type": "execute_result"
    }
   ],
   "source": [
    "res_coef = np.linalg.solve(matr, y)\n",
    "res_coef"
   ]
  },
  {
   "cell_type": "markdown",
   "id": "dc58ae13",
   "metadata": {},
   "source": [
    "## Завдання 5"
   ]
  },
  {
   "cell_type": "markdown",
   "id": "3ea598cc",
   "metadata": {},
   "source": [
    "Складіть функцію `get_polynom`, яка за набором точок виду $(x_1,y_1),(x_2,y_2), \\ldots, (x_{n+1}, y_{n+1})$ знаходитиме коефіцієнти многочлена $c_i$. Таким чином функція приймає список кортежів з координатами та повертає набір коефіцієнтів $c_0, c_1,...,c_n$\n"
   ]
  },
  {
   "cell_type": "code",
   "execution_count": 60,
   "id": "082c5e2c",
   "metadata": {},
   "outputs": [],
   "source": [
    "def get_polynom(coords):\n",
    "    n = len(coords)\n",
    "    a = np.zeros((n, n))\n",
    "    b = np.zeros(n)\n",
    "    for i in range(n):\n",
    "        for j in range(n):\n",
    "            a[i,j] = coords[i][0]**j\n",
    "        b[i] = coords[i][1]\n",
    "        \n",
    "    return np.linalg.solve(a, b)"
   ]
  },
  {
   "cell_type": "code",
   "execution_count": 61,
   "id": "d0381166",
   "metadata": {},
   "outputs": [
    {
     "data": {
      "text/plain": [
       "array([3., 5., 4.])"
      ]
     },
     "execution_count": 61,
     "metadata": {},
     "output_type": "execute_result"
    }
   ],
   "source": [
    "get_polynom([(1, 12), (3, 54), (-1, 2)])"
   ]
  }
 ],
 "metadata": {
  "kernelspec": {
   "display_name": "Python 3 (ipykernel)",
   "language": "python",
   "name": "python3"
  },
  "language_info": {
   "codemirror_mode": {
    "name": "ipython",
    "version": 3
   },
   "file_extension": ".py",
   "mimetype": "text/x-python",
   "name": "python",
   "nbconvert_exporter": "python",
   "pygments_lexer": "ipython3",
   "version": "3.9.13"
  }
 },
 "nbformat": 4,
 "nbformat_minor": 5
}
